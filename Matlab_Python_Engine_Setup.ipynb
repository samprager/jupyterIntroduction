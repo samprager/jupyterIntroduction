{
 "cells": [
  {
   "cell_type": "markdown",
   "metadata": {},
   "source": [
    "# Connecting Python to Matlab\n",
    "Matlab has a python engine that can be used to call matlab functions from python. On MacOS Matlab 2019a, python 3.7 is supported, however it is unclear if it works.\n",
    "\n",
    "[Getting started guide](https://www.mathworks.com/help/matlab/matlab_external/get-started-with-matlab-engine-for-python.html)\n",
    "\n",
    "## Installation\n",
    " \n",
    "```\n",
    "cd /Applications/MATLAB_R2019a.app/extern/engines/python\n",
    "python3 setup.py install\n",
    "```\n",
    "\n",
    "## Running the engine\n",
    "According to the [documentation](https://www.mathworks.com/help/matlab/matlab_external/use-the-matlab-engine-workspace-in-python.html), the following python code should work:\n",
    "\n",
    "```\n",
    "import matlab.engine\n",
    "eng = matlab.engine.start_matlab()\n",
    "x = 4.0\n",
    "eng.workspace['y'] = x\n",
    "a = eng.eval('sqrt(y)')\n",
    "print(a)\n",
    "```\n",
    "\n",
    "However, it appears to cause a segfault after `eng = matlab.engine.start_matlab()`.\n",
    "\n",
    "One suggested workaround was, but this did not work:\n",
    "```\n",
    "export DYLD_LIBRARY_PATH=/usr/local/Cellar/python3/3.7.3/Frameworks/Python.framework/Versions/3.7/lib:$DYLD_LIBRARY_PATH\n",
    "```\n",
    "\n",
    "## Workaround\n",
    "In an active matlab session, run the command:\n",
    "```\n",
    "matlab.engine.shareEngine\n",
    "```\n",
    "Then in python, the following will work:\n",
    "```\n",
    "import matlab.engine\n",
    "eng = matlab.engine.connect_matlab()\n",
    "a = eng.eval('sqrt(y)')\n",
    "x = 4.0\n",
    "eng.workspace['y'] = x\n",
    "a = eng.eval('sqrt(y)')\n",
    "print(a)\n",
    "```\n",
    "Note that we are using `eng = matlab.engine.connect_matlab()` rather than `eng = matlab.engine.start_matlab()`.\n"
   ]
  },
  {
   "cell_type": "code",
   "execution_count": null,
   "metadata": {},
   "outputs": [],
   "source": []
  }
 ],
 "metadata": {
  "kernelspec": {
   "display_name": "Python 3",
   "language": "python",
   "name": "python3"
  },
  "language_info": {
   "codemirror_mode": {
    "name": "ipython",
    "version": 3
   },
   "file_extension": ".py",
   "mimetype": "text/x-python",
   "name": "python",
   "nbconvert_exporter": "python",
   "pygments_lexer": "ipython3",
   "version": "3.7.3"
  }
 },
 "nbformat": 4,
 "nbformat_minor": 2
}
