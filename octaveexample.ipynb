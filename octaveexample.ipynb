{
 "cells": [
  {
   "cell_type": "markdown",
   "metadata": {},
   "source": [
    "# Octave/Matlab Example\n",
    "\n",
    "Octave is a good alternative to Matlab for use in Jupyter notebooks. Octave can execute most .m files and doesn't have the Jupyter configuration/compatibility issues that Matlab has.\n",
    "\n",
    "[octave kernel git](https://github.com/Calysto/octave_kernel)\n",
    "\n",
    "## Installation\n",
    "\n",
    "First install octave:\n",
    "```\n",
    "brew install octave\n",
    "```\n",
    "\n",
    "Once jupyterLab is installed and working, install the octave kernel:\n",
    "```\n",
    "pip install octave_kernel\n",
    "```\n",
    "\n",
    "If SOS is installed, octave support can be installed (same for both matlab and octave) with:\n",
    "```\n",
    "pip install sos-matlab\n",
    "```\n",
    "[sos octave/matlab user guide](https://vatlab.github.io/sos-docs/doc/user_guide/sos_matlab.html)"
   ]
  },
  {
   "cell_type": "markdown",
   "metadata": {},
   "source": [
    "## Using Jupyter Octave Kernel\n",
    "\n",
    "Here is an additional [octave notebook example](https://nbviewer.jupyter.org/github/Calysto/octave_kernel/blob/master/octave_kernel.ipynb)\n",
    "\n",
    "### Hello World"
   ]
  },
  {
   "cell_type": "code",
   "execution_count": null,
   "metadata": {},
   "outputs": [],
   "source": [
    "disp(\"hello world\")"
   ]
  },
  {
   "cell_type": "markdown",
   "metadata": {},
   "source": [
    "### Calling Matlab Functions\n",
    "\n",
    "Matlab functions can be called from .m files using Octave. In this example, .m files are located in `./tools/matlab`. "
   ]
  },
  {
   "cell_type": "markdown",
   "metadata": {},
   "source": [
    "#### Read a Waveform File"
   ]
  },
  {
   "cell_type": "code",
   "execution_count": null,
   "metadata": {},
   "outputs": [],
   "source": [
    "addpath ./tools/matlab/\n",
    "% read binary waveform file (chirp with .80 fractional BW)\n",
    "s = file2wave('./tools/waveforms/chirp80.bin');\n",
    "% remove pre-appended zeros\n",
    "s = s(513:end);\n",
    "% normalize complex int16 signal scale\n",
    "s = s./(2^15);"
   ]
  },
  {
   "cell_type": "markdown",
   "metadata": {},
   "source": [
    "#### Plot Waveform and Spectrum"
   ]
  },
  {
   "cell_type": "code",
   "execution_count": null,
   "metadata": {},
   "outputs": [],
   "source": [
    "% plot waveform\n",
    "figure;\n",
    "subplot(2,1,1);\n",
    "hold on;\n",
    "plot(real(s));\n",
    "plot(imag(s));\n",
    "title('chirp'); xlabel('n');\n",
    "grid on; xlim([1,numel(s)]);\n",
    "legend('I','Q');\n",
    "\n",
    "% plot spectrum\n",
    "sfft = fftshift(fft(s));\n",
    "f_norm = linspace(-.5,.5,numel(sfft));\n",
    "subplot(2,1,2);\n",
    "plot(f_norm,abs(sfft));\n",
    "title('chirp spectrum'); xlabel('f/f_s');\n",
    "grid on; axis tight;"
   ]
  },
  {
   "cell_type": "markdown",
   "metadata": {},
   "source": [
    "#### Apply Matched Filter"
   ]
  },
  {
   "cell_type": "code",
   "execution_count": null,
   "metadata": {},
   "outputs": [],
   "source": [
    "% matched filter and upsample using './tools/matlab/mfiltu.m'\n",
    "upfac = 4;\n",
    "[d,l] = mfiltu(s,s,upfac);\n",
    "d = d./numel(d);\n",
    "\n",
    "figure;\n",
    "subplot(2,1,1);\n",
    "plot(l/upfac,20*log10(abs(d)));\n",
    "title('chirp autocorrelation'); xlabel('n'); ylabel('dB');\n",
    "grid on; xlim([-50,50]); ylim([-60,5]);\n",
    "\n",
    "% shift signal and add noise\n",
    "snr = 10; %db\n",
    "r = [s,zeros(1,128)];\n",
    "noise = (10^(-snr/20))*(1/sqrt(2))*(randn(1,numel(r))+1i*randn(1,numel(r)));\n",
    "r = shift(r,10.5) + noise;\n",
    "\n",
    "% matched filter and upsample\n",
    "[d1,l1] = mfiltu(r,s,upfac);\n",
    "d1 = d1./numel(d1);\n",
    "\n",
    "subplot(2,1,2);\n",
    "plot(l1/upfac,20*log10(abs(d1)));\n",
    "title(sprintf('matched filter with SNR = %g dB',snr)); xlabel('n'); ylabel('dB');\n",
    "grid on; xlim([-50,50]); ylim([-60,5]);"
   ]
  }
 ],
 "metadata": {
  "kernelspec": {
   "display_name": "Octave",
   "language": "octave",
   "name": "octave"
  },
  "language_info": {
   "file_extension": ".m",
   "help_links": [
    {
     "text": "GNU Octave",
     "url": "https://www.gnu.org/software/octave/support.html"
    },
    {
     "text": "Octave Kernel",
     "url": "https://github.com/Calysto/octave_kernel"
    },
    {
     "text": "MetaKernel Magics",
     "url": "https://metakernel.readthedocs.io/en/latest/source/README.html"
    }
   ],
   "mimetype": "text/x-octave",
   "name": "octave",
   "version": "5.1.0"
  }
 },
 "nbformat": 4,
 "nbformat_minor": 2
}
