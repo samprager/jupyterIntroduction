{
 "cells": [
  {
   "cell_type": "markdown",
   "metadata": {},
   "source": [
    "# Python Example\n",
    "Let's take a look at linear frequency modulated (LFM) chirp waveforms!\n",
    "\n",
    "\n",
    "We can also try running this notebook interactively with binder!\n",
    "\n",
    "[![Binder](https://mybinder.org/badge_logo.svg)](https://mybinder.org/v2/gh/samprager/jupyterIntroduction/master?filepath=pythonexample.ipynb)"
   ]
  },
  {
   "cell_type": "code",
   "execution_count": null,
   "metadata": {},
   "outputs": [],
   "source": [
    "import numpy as np\n",
    "import matplotlib.pyplot as plt\n",
    "%matplotlib inline\n",
    "\n",
    "fs = 100e6;\n",
    "N = 1024;\n",
    "bw = 5e6;\n",
    "\n",
    "n = np.arange(0,N-1)-N/2;\n",
    "t = n/fs;\n",
    "\n",
    "s = np.exp(1j*np.pi*.5*(bw/t[-1])*(t**2));\n",
    "\n",
    "plt.figure;\n",
    "plt.plot(t*1e6,np.real(s),label='I');\n",
    "plt.plot(t*1e6,np.imag(s),label='Q');\n",
    "plt.xlabel(\"time (us)\"); plt.title('Chirp'); plt.legend();\n",
    "plt.autoscale(enable=True, axis='x', tight=True);"
   ]
  },
  {
   "cell_type": "code",
   "execution_count": null,
   "metadata": {},
   "outputs": [],
   "source": [
    "sfft = np.fft.fftshift(np.fft.fft(s));\n",
    "f = n*(fs/N);\n",
    "plt.figure;\n",
    "plt.plot(f/1e6,np.abs(sfft));\n",
    "plt.xlabel(\"freq (MHz)\"); plt.title('Chirp Spectrum');\n",
    "plt.autoscale(enable=True, axis='x', tight=True);"
   ]
  },
  {
   "cell_type": "code",
   "execution_count": null,
   "metadata": {},
   "outputs": [],
   "source": [
    "dfft = sfft * np.conj(sfft);\n",
    "d = (1/N)*np.fft.fftshift(np.fft.ifft(dfft))\n",
    "plt.figure;\n",
    "plt.plot(t*1e6,20*np.log10(np.abs(d)));\n",
    "plt.xlabel(\"time (us)\"); plt.xlabel(\"dB\"); plt.title('Chirp Autocorrelation');\n",
    "plt.autoscale(enable=True, axis='x', tight=True);"
   ]
  }
 ],
 "metadata": {
  "kernelspec": {
   "display_name": "Python 3",
   "language": "python",
   "name": "python3"
  },
  "language_info": {
   "codemirror_mode": {
    "name": "ipython",
    "version": 3
   },
   "file_extension": ".py",
   "mimetype": "text/x-python",
   "name": "python",
   "nbconvert_exporter": "python",
   "pygments_lexer": "ipython3",
   "version": "3.7.3"
  }
 },
 "nbformat": 4,
 "nbformat_minor": 2
}
